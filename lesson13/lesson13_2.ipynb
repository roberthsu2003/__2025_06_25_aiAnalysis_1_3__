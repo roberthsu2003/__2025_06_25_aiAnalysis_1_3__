{
 "cells": [
  {
   "cell_type": "code",
   "execution_count": 2,
   "id": "7d642220",
   "metadata": {},
   "outputs": [
    {
     "data": {
      "text/plain": [
       "[10, 20, 30, 40, 50]"
      ]
     },
     "execution_count": 2,
     "metadata": {},
     "output_type": "execute_result"
    }
   ],
   "source": [
    "def my_func(my_list:list)->None:\n",
    "    for i in range(len(my_list)):\n",
    "        my_list[i] *= 10\n",
    "\n",
    "\n",
    "li = [1, 2, 3, 4, 5]\n",
    "my_func(li)\n",
    "li"
   ]
  },
  {
   "cell_type": "code",
   "execution_count": 4,
   "id": "7b03ce96",
   "metadata": {},
   "outputs": [
    {
     "data": {
      "text/plain": [
       "50"
      ]
     },
     "execution_count": 4,
     "metadata": {},
     "output_type": "execute_result"
    }
   ],
   "source": [
    "def multiply10(num:int) -> int:\n",
    "    num *= 10\n",
    "    return num\n",
    "\n",
    "n = 5\n",
    "n = multiply10(n)\n",
    "n"
   ]
  }
 ],
 "metadata": {
  "kernelspec": {
   "display_name": "data_analysis_1_3",
   "language": "python",
   "name": "python3"
  },
  "language_info": {
   "codemirror_mode": {
    "name": "ipython",
    "version": 3
   },
   "file_extension": ".py",
   "mimetype": "text/x-python",
   "name": "python",
   "nbconvert_exporter": "python",
   "pygments_lexer": "ipython3",
   "version": "3.12.11"
  }
 },
 "nbformat": 4,
 "nbformat_minor": 5
}
