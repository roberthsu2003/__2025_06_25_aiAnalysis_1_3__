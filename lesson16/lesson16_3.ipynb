{
 "cells": [
  {
   "cell_type": "code",
   "execution_count": 1,
   "id": "a4a5fcdf",
   "metadata": {},
   "outputs": [],
   "source": [
    "import pandas as pd\n",
    "#將DataFrame當作資料庫來操作\n",
    "df = pd.read_csv('world.csv')"
   ]
  },
  {
   "cell_type": "code",
   "execution_count": 4,
   "id": "8c2c970e",
   "metadata": {},
   "outputs": [
    {
     "name": "stdout",
     "output_type": "stream",
     "text": [
      "<class 'pandas.core.frame.DataFrame'>\n",
      "RangeIndex: 187885 entries, 0 to 187884\n",
      "Data columns (total 33 columns):\n",
      " #   Column          Non-Null Count   Dtype  \n",
      "---  ------          --------------   -----  \n",
      " 0   ID              187885 non-null  int64  \n",
      " 1   iso_code        187885 non-null  object \n",
      " 2   洲名              187885 non-null  object \n",
      " 3   國家              187885 non-null  object \n",
      " 4   日期              187885 non-null  object \n",
      " 5   總確診數            187885 non-null  int64  \n",
      " 6   新增確診數           187885 non-null  int64  \n",
      " 7   七天移動平均新增確診數     187885 non-null  float64\n",
      " 8   總死亡數            187885 non-null  int64  \n",
      " 9   新增死亡數           187885 non-null  int64  \n",
      " 10  七天移動平均新增死亡數     187885 non-null  float64\n",
      " 11  每百萬人確診數         187885 non-null  float64\n",
      " 12  每百萬人死亡數         187885 non-null  float64\n",
      " 13  傳染率             187885 non-null  float64\n",
      " 14  新增檢驗件數          187885 non-null  int64  \n",
      " 15  總檢驗件數           187885 non-null  int64  \n",
      " 16  每千人檢驗件數         187885 non-null  float64\n",
      " 17  七天移動平均新增檢驗件數    187885 non-null  float64\n",
      " 18  陽性率             187885 non-null  float64\n",
      " 19  每確診案例相對檢驗數量     187885 non-null  float64\n",
      " 20  疫苗總接種總劑數        187885 non-null  int64  \n",
      " 21  疫苗總接種人數         187885 non-null  int64  \n",
      " 22  疫苗新增接種劑數        187885 non-null  int64  \n",
      " 23  七天移動平均疫苗新增接種劑數  187885 non-null  float64\n",
      " 24  每百人接種疫苗劑數       187885 non-null  float64\n",
      " 25  每百人接種疫苗人數       187885 non-null  float64\n",
      " 26  疫情控管指數          187885 non-null  float64\n",
      " 27  總人口數            187885 non-null  int64  \n",
      " 28  中位數年紀           187885 non-null  float64\n",
      " 29  70歲以上人口比例       187885 non-null  float64\n",
      " 30  平均壽命            187885 non-null  float64\n",
      " 31  解除隔離數           187885 non-null  int64  \n",
      " 32  解封指數            187885 non-null  float64\n",
      "dtypes: float64(17), int64(12), object(4)\n",
      "memory usage: 47.3+ MB\n"
     ]
    }
   ],
   "source": [
    "df.head()\n",
    "df.shape\n",
    "df.info()"
   ]
  },
  {
   "cell_type": "code",
   "execution_count": null,
   "id": "43dee75d",
   "metadata": {},
   "outputs": [
    {
     "name": "stdout",
     "output_type": "stream",
     "text": [
      "<class 'pandas.core.frame.DataFrame'>\n",
      "RangeIndex: 187885 entries, 0 to 187884\n",
      "Data columns (total 7 columns):\n",
      " #   Column  Non-Null Count   Dtype  \n",
      "---  ------  --------------   -----  \n",
      " 0   洲名      187885 non-null  object \n",
      " 1   國家      187885 non-null  object \n",
      " 2   日期      187885 non-null  object \n",
      " 3   總確診數    187885 non-null  int64  \n",
      " 4   新增確診數   187885 non-null  int64  \n",
      " 5   總人口數    187885 non-null  int64  \n",
      " 6   解封指數    187885 non-null  float64\n",
      "dtypes: float64(1), int64(3), object(3)\n",
      "memory usage: 10.0+ MB\n"
     ]
    }
   ],
   "source": [
    "df1 = df[['洲名','國家','日期','總確診數','新增確診數','總人口數','解封指數']]\n",
    "\n",
    "df1.shape\n",
    "df1.info()"
   ]
  },
  {
   "cell_type": "code",
   "execution_count": 20,
   "id": "6a1cf3d4",
   "metadata": {},
   "outputs": [],
   "source": [
    "df1.loc[:, '日期'] = pd.to_datetime(df1['日期'])"
   ]
  },
  {
   "cell_type": "code",
   "execution_count": 21,
   "id": "c10594cc",
   "metadata": {},
   "outputs": [
    {
     "data": {
      "text/html": [
       "<div>\n",
       "<style scoped>\n",
       "    .dataframe tbody tr th:only-of-type {\n",
       "        vertical-align: middle;\n",
       "    }\n",
       "\n",
       "    .dataframe tbody tr th {\n",
       "        vertical-align: top;\n",
       "    }\n",
       "\n",
       "    .dataframe thead th {\n",
       "        text-align: right;\n",
       "    }\n",
       "</style>\n",
       "<table border=\"1\" class=\"dataframe\">\n",
       "  <thead>\n",
       "    <tr style=\"text-align: right;\">\n",
       "      <th></th>\n",
       "      <th>洲名</th>\n",
       "      <th>國家</th>\n",
       "      <th>日期</th>\n",
       "      <th>總確診數</th>\n",
       "      <th>新增確診數</th>\n",
       "      <th>總人口數</th>\n",
       "      <th>解封指數</th>\n",
       "    </tr>\n",
       "  </thead>\n",
       "  <tbody>\n",
       "    <tr>\n",
       "      <th>0</th>\n",
       "      <td>亞洲</td>\n",
       "      <td>阿富汗</td>\n",
       "      <td>2020-02-24</td>\n",
       "      <td>5</td>\n",
       "      <td>5</td>\n",
       "      <td>39835428</td>\n",
       "      <td>99999.0</td>\n",
       "    </tr>\n",
       "    <tr>\n",
       "      <th>1</th>\n",
       "      <td>亞洲</td>\n",
       "      <td>阿富汗</td>\n",
       "      <td>2020-02-25</td>\n",
       "      <td>5</td>\n",
       "      <td>0</td>\n",
       "      <td>39835428</td>\n",
       "      <td>99999.0</td>\n",
       "    </tr>\n",
       "    <tr>\n",
       "      <th>2</th>\n",
       "      <td>亞洲</td>\n",
       "      <td>阿富汗</td>\n",
       "      <td>2020-02-26</td>\n",
       "      <td>5</td>\n",
       "      <td>0</td>\n",
       "      <td>39835428</td>\n",
       "      <td>99999.0</td>\n",
       "    </tr>\n",
       "    <tr>\n",
       "      <th>3</th>\n",
       "      <td>亞洲</td>\n",
       "      <td>阿富汗</td>\n",
       "      <td>2020-02-27</td>\n",
       "      <td>5</td>\n",
       "      <td>0</td>\n",
       "      <td>39835428</td>\n",
       "      <td>99999.0</td>\n",
       "    </tr>\n",
       "    <tr>\n",
       "      <th>4</th>\n",
       "      <td>亞洲</td>\n",
       "      <td>阿富汗</td>\n",
       "      <td>2020-02-28</td>\n",
       "      <td>5</td>\n",
       "      <td>0</td>\n",
       "      <td>39835428</td>\n",
       "      <td>99999.0</td>\n",
       "    </tr>\n",
       "  </tbody>\n",
       "</table>\n",
       "</div>"
      ],
      "text/plain": [
       "   洲名   國家         日期  總確診數  新增確診數      總人口數     解封指數\n",
       "0  亞洲  阿富汗 2020-02-24     5      5  39835428  99999.0\n",
       "1  亞洲  阿富汗 2020-02-25     5      0  39835428  99999.0\n",
       "2  亞洲  阿富汗 2020-02-26     5      0  39835428  99999.0\n",
       "3  亞洲  阿富汗 2020-02-27     5      0  39835428  99999.0\n",
       "4  亞洲  阿富汗 2020-02-28     5      0  39835428  99999.0"
      ]
     },
     "execution_count": 21,
     "metadata": {},
     "output_type": "execute_result"
    }
   ],
   "source": [
    "df1.head()"
   ]
  },
  {
   "cell_type": "code",
   "execution_count": 23,
   "id": "901e907b",
   "metadata": {},
   "outputs": [
    {
     "name": "stdout",
     "output_type": "stream",
     "text": [
      "<class 'pandas.core.frame.DataFrame'>\n",
      "Index: 903 entries, 163986 to 164888\n",
      "Data columns (total 7 columns):\n",
      " #   Column  Non-Null Count  Dtype         \n",
      "---  ------  --------------  -----         \n",
      " 0   洲名      903 non-null    object        \n",
      " 1   國家      903 non-null    object        \n",
      " 2   日期      903 non-null    datetime64[ns]\n",
      " 3   總確診數    903 non-null    int64         \n",
      " 4   新增確診數   903 non-null    int64         \n",
      " 5   總人口數    903 non-null    int64         \n",
      " 6   解封指數    903 non-null    float64       \n",
      "dtypes: datetime64[ns](1), float64(1), int64(3), object(2)\n",
      "memory usage: 56.4+ KB\n"
     ]
    }
   ],
   "source": [
    "is_taiwan = df1['國家'] == \"台灣\"\n",
    "df_taiwan = df1[is_taiwan]\n",
    "df_taiwan.info()"
   ]
  },
  {
   "cell_type": "code",
   "execution_count": 25,
   "id": "55307f79",
   "metadata": {},
   "outputs": [
    {
     "name": "stdout",
     "output_type": "stream",
     "text": [
      "<class 'pandas.core.frame.DataFrame'>\n",
      "Index: 897 entries, 85626 to 86522\n",
      "Data columns (total 7 columns):\n",
      " #   Column  Non-Null Count  Dtype         \n",
      "---  ------  --------------  -----         \n",
      " 0   洲名      897 non-null    object        \n",
      " 1   國家      897 non-null    object        \n",
      " 2   日期      897 non-null    datetime64[ns]\n",
      " 3   總確診數    897 non-null    int64         \n",
      " 4   新增確診數   897 non-null    int64         \n",
      " 5   總人口數    897 non-null    int64         \n",
      " 6   解封指數    897 non-null    float64       \n",
      "dtypes: datetime64[ns](1), float64(1), int64(3), object(2)\n",
      "memory usage: 56.1+ KB\n"
     ]
    }
   ],
   "source": [
    "is_japan = df1['國家'] == \"日本\"\n",
    "df_japan = df1[is_japan]\n",
    "df_japan.info()"
   ]
  }
 ],
 "metadata": {
  "kernelspec": {
   "display_name": "data_analysis_1_3",
   "language": "python",
   "name": "python3"
  },
  "language_info": {
   "codemirror_mode": {
    "name": "ipython",
    "version": 3
   },
   "file_extension": ".py",
   "mimetype": "text/x-python",
   "name": "python",
   "nbconvert_exporter": "python",
   "pygments_lexer": "ipython3",
   "version": "3.12.11"
  }
 },
 "nbformat": 4,
 "nbformat_minor": 5
}
