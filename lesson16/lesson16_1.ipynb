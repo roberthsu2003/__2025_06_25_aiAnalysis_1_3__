{
 "cells": [
  {
   "cell_type": "code",
   "execution_count": 3,
   "id": "0c14bb88",
   "metadata": {},
   "outputs": [
    {
     "data": {
      "text/plain": [
       "RangeIndex(start=0, stop=3, step=1)"
      ]
     },
     "execution_count": 3,
     "metadata": {},
     "output_type": "execute_result"
    }
   ],
   "source": [
    "#1維list\n",
    "import pandas as pd\n",
    "sdata = [3000, 5000, 8000]\n",
    "\n",
    "s1 = pd.Series(sdata)\n",
    "s1.index\n"
   ]
  },
  {
   "cell_type": "code",
   "execution_count": 4,
   "id": "74c8a84b",
   "metadata": {},
   "outputs": [
    {
     "data": {
      "text/plain": [
       "Index(['台北', '桃園', '台中', '高雄'], dtype='object')"
      ]
     },
     "execution_count": 4,
     "metadata": {},
     "output_type": "execute_result"
    }
   ],
   "source": [
    "#1維dict\n",
    "sdata = {'台北':35000, '桃園':71000, '台中':16000, '高雄':5000}\n",
    "s2 = pd.Series(sdata)\n",
    "s2.index\n"
   ]
  }
 ],
 "metadata": {
  "kernelspec": {
   "display_name": "data_analysis_1_3",
   "language": "python",
   "name": "python3"
  },
  "language_info": {
   "codemirror_mode": {
    "name": "ipython",
    "version": 3
   },
   "file_extension": ".py",
   "mimetype": "text/x-python",
   "name": "python",
   "nbconvert_exporter": "python",
   "pygments_lexer": "ipython3",
   "version": "3.12.11"
  }
 },
 "nbformat": 4,
 "nbformat_minor": 5
}
