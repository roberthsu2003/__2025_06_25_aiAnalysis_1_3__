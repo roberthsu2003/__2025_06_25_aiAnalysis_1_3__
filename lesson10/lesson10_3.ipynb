{
 "cells": [
  {
   "cell_type": "markdown",
   "id": "2bed138b",
   "metadata": {},
   "source": [
    "## 類別\n",
    "## 實體"
   ]
  },
  {
   "cell_type": "code",
   "execution_count": null,
   "id": "34423c81",
   "metadata": {},
   "outputs": [
    {
     "name": "stdout",
     "output_type": "stream",
     "text": [
      "<class 'list'>\n"
     ]
    }
   ],
   "source": [
    "my_list:list = [i for i in range(10)]\n",
    "print(type(my_list))\n",
    "#list的實體方法\n",
    "my_list.append(10)"
   ]
  },
  {
   "cell_type": "code",
   "execution_count": 13,
   "id": "88dcacf0",
   "metadata": {},
   "outputs": [
    {
     "data": {
      "text/plain": [
       "[-1, 11]"
      ]
     },
     "execution_count": 13,
     "metadata": {},
     "output_type": "execute_result"
    }
   ],
   "source": [
    "#建立my_list常用的實體方法\n",
    "my_list.clear()  # 清空列表\n",
    "my_list\n",
    "my_list.append(10)  # 在列表末尾添加元素\n",
    "my_list\n",
    "my_list.extend([11, 12])  # 在列表末尾添加多個元素\n",
    "my_list\n",
    "my_list.insert(0, -1)  # 在指定位置插入元素\n",
    "my_list\n",
    "my_list.remove(10)  # 移除列表中的第一個匹配項\n",
    "my_list\n",
    "my_list.pop()  # 移除並返回列表中的最後一個元素\n",
    "my_list"
   ]
  }
 ],
 "metadata": {
  "kernelspec": {
   "display_name": "base",
   "language": "python",
   "name": "python3"
  },
  "language_info": {
   "codemirror_mode": {
    "name": "ipython",
    "version": 3
   },
   "file_extension": ".py",
   "mimetype": "text/x-python",
   "name": "python",
   "nbconvert_exporter": "python",
   "pygments_lexer": "ipython3",
   "version": "3.13.2"
  }
 },
 "nbformat": 4,
 "nbformat_minor": 5
}
