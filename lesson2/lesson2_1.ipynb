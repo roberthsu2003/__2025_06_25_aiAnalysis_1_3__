{
 "cells": [
  {
   "cell_type": "code",
   "execution_count": 1,
   "id": "7d797d3f",
   "metadata": {},
   "outputs": [
    {
     "name": "stdout",
     "output_type": "stream",
     "text": [
      "Hello! Python!\n"
     ]
    }
   ],
   "source": [
    "print(\"Hello! Python!\")"
   ]
  },
  {
   "cell_type": "code",
   "execution_count": 4,
   "id": "36ed3855",
   "metadata": {},
   "outputs": [
    {
     "name": "stdout",
     "output_type": "stream",
     "text": [
      "10\n",
      "25\n"
     ]
    }
   ],
   "source": [
    "print(5 + 5)\n",
    "\n",
    "print(5 * 5)"
   ]
  },
  {
   "cell_type": "code",
   "execution_count": null,
   "id": "53e6807c",
   "metadata": {},
   "outputs": [],
   "source": [
    "print(\"Hello! World!\")"
   ]
  },
  {
   "cell_type": "markdown",
   "id": "36bd7773",
   "metadata": {},
   "source": [
    "\"abc\""
   ]
  }
 ],
 "metadata": {
  "kernelspec": {
   "display_name": "base",
   "language": "python",
   "name": "python3"
  },
  "language_info": {
   "codemirror_mode": {
    "name": "ipython",
    "version": 3
   },
   "file_extension": ".py",
   "mimetype": "text/x-python",
   "name": "python",
   "nbconvert_exporter": "python",
   "pygments_lexer": "ipython3",
   "version": "3.13.2"
  }
 },
 "nbformat": 4,
 "nbformat_minor": 5
}
