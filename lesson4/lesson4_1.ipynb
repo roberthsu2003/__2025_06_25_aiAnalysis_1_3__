{
 "cells": [
  {
   "cell_type": "code",
   "execution_count": 6,
   "id": "3a52e301",
   "metadata": {},
   "outputs": [
    {
     "name": "stdout",
     "output_type": "stream",
     "text": [
      "3數的加總是: 244.89999999999998\n"
     ]
    }
   ],
   "source": [
    "value1 = float(input(\"請輸入第1個值:\"))\n",
    "value2 = float(input(\"請輸入第2個值:\"))\n",
    "value3 = float(input(\"請輸入第3個值:\"))\n",
    "\n",
    "total = value1 + value2 + value3\n",
    "print(\"3數的加總是:\", total)"
   ]
  },
  {
   "cell_type": "code",
   "execution_count": 4,
   "id": "9d924f94",
   "metadata": {},
   "outputs": [
    {
     "name": "stdout",
     "output_type": "stream",
     "text": [
      "3 5.0 您好 True 78.9\n"
     ]
    }
   ],
   "source": [
    "print(3, \"5.0\", \"您好\", True, 78.9)"
   ]
  },
  {
   "cell_type": "code",
   "execution_count": 8,
   "id": "2d4b8a31",
   "metadata": {},
   "outputs": [
    {
     "name": "stdout",
     "output_type": "stream",
     "text": [
      "n= 50\n"
     ]
    }
   ],
   "source": [
    "n = 25\n",
    "n = n + 25\n",
    "print(\"n=\", n)"
   ]
  },
  {
   "cell_type": "code",
   "execution_count": null,
   "id": "b462f63b",
   "metadata": {},
   "outputs": [
    {
     "name": "stdout",
     "output_type": "stream",
     "text": [
      "n= 50\n"
     ]
    }
   ],
   "source": [
    "#複合指定運算子\n",
    "# +=\n",
    "# -=\n",
    "# *=\n",
    "\n",
    "n = 25\n",
    "n += 25\n",
    "n *= 2\n",
    "print(\"n=\", n)"
   ]
  },
  {
   "cell_type": "code",
   "execution_count": 11,
   "id": "a36f8e89",
   "metadata": {},
   "outputs": [
    {
     "name": "stdout",
     "output_type": "stream",
     "text": [
      "3數的加總是: 200.0\n"
     ]
    }
   ],
   "source": [
    "#複合指定運算子\n",
    "\n",
    "total = 0\n",
    "value = float(input(\"請輸入第1個值:\"))\n",
    "total += value\n",
    "\n",
    "value = float(input(\"請輸入第2個值:\"))\n",
    "total += value\n",
    "\n",
    "value = float(input(\"請輸入第3個值:\"))\n",
    "total += value\n",
    "\n",
    "print(\"3數的加總是:\", total)"
   ]
  }
 ],
 "metadata": {
  "kernelspec": {
   "display_name": "base",
   "language": "python",
   "name": "python3"
  },
  "language_info": {
   "codemirror_mode": {
    "name": "ipython",
    "version": 3
   },
   "file_extension": ".py",
   "mimetype": "text/x-python",
   "name": "python",
   "nbconvert_exporter": "python",
   "pygments_lexer": "ipython3",
   "version": "3.13.2"
  }
 },
 "nbformat": 4,
 "nbformat_minor": 5
}
