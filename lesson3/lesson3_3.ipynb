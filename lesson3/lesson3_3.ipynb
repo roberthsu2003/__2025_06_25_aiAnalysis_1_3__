{
 "cells": [
  {
   "cell_type": "code",
   "execution_count": 3,
   "id": "c7fcccca",
   "metadata": {},
   "outputs": [
    {
     "name": "stdout",
     "output_type": "stream",
     "text": [
      "梯形的面積: 40.019999999999996\n"
     ]
    }
   ],
   "source": [
    "# 請輸入梯形的上底(公分):5\n",
    "# 請輸入梯形的下底(公分):10\n",
    "# 請輸入梯形的高(公分):2\n",
    "\n",
    "top = 13.5\n",
    "bottom = 21.3\n",
    "height = 2.3\n",
    "\n",
    "area = (top + bottom) * height / 2\n",
    "print(\"梯形的面積:\",area)"
   ]
  }
 ],
 "metadata": {
  "kernelspec": {
   "display_name": "base",
   "language": "python",
   "name": "python3"
  },
  "language_info": {
   "codemirror_mode": {
    "name": "ipython",
    "version": 3
   },
   "file_extension": ".py",
   "mimetype": "text/x-python",
   "name": "python",
   "nbconvert_exporter": "python",
   "pygments_lexer": "ipython3",
   "version": "3.13.2"
  }
 },
 "nbformat": 4,
 "nbformat_minor": 5
}
