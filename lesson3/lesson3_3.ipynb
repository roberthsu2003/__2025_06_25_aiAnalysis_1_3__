{
 "cells": [
  {
   "cell_type": "code",
   "execution_count": 16,
   "id": "c7fcccca",
   "metadata": {},
   "outputs": [
    {
     "name": "stdout",
     "output_type": "stream",
     "text": [
      "梯形的面積: 152.92\n"
     ]
    }
   ],
   "source": [
    "# 請輸入梯形的上底(公分):5\n",
    "# 請輸入梯形的下底(公分):10\n",
    "# 請輸入梯形的高(公分):2\n",
    "\n",
    "top = float(input(\"請輸入上底(公分)\"))\n",
    "bottom = float(input(\"請輸入下底(公分)\"))\n",
    "height = float(input(\"請輸入高(公分)\"))\n",
    "\n",
    "area = (top + bottom) * height / 2\n",
    "print(\"梯形的面積:\",round(area,ndigits=2))"
   ]
  },
  {
   "cell_type": "code",
   "execution_count": null,
   "id": "447505c5",
   "metadata": {},
   "outputs": [
    {
     "data": {
      "text/plain": [
       "78.0"
      ]
     },
     "execution_count": 18,
     "metadata": {},
     "output_type": "execute_result"
    }
   ],
   "source": [
    "value = input(\"請輸入一個數值:\")\n",
    "type(value)\n",
    "value_float = float(value)\n",
    "value_float"
   ]
  },
  {
   "cell_type": "code",
   "execution_count": null,
   "id": "d2c891c8",
   "metadata": {},
   "outputs": [],
   "source": [
    "value = float(input(\"請輸入一個數值\"))"
   ]
  },
  {
   "cell_type": "code",
   "execution_count": 23,
   "id": "878f9fdc",
   "metadata": {},
   "outputs": [
    {
     "data": {
      "text/plain": [
       "'50'"
      ]
     },
     "execution_count": 23,
     "metadata": {},
     "output_type": "execute_result"
    }
   ],
   "source": [
    "78.0\n",
    "79\n",
    "\"50\""
   ]
  },
  {
   "cell_type": "code",
   "execution_count": 26,
   "id": "068246c4",
   "metadata": {},
   "outputs": [
    {
     "data": {
      "text/plain": [
       "90"
      ]
     },
     "execution_count": 26,
     "metadata": {},
     "output_type": "execute_result"
    }
   ],
   "source": [
    "90"
   ]
  }
 ],
 "metadata": {
  "kernelspec": {
   "display_name": "base",
   "language": "python",
   "name": "python3"
  },
  "language_info": {
   "codemirror_mode": {
    "name": "ipython",
    "version": 3
   },
   "file_extension": ".py",
   "mimetype": "text/x-python",
   "name": "python",
   "nbconvert_exporter": "python",
   "pygments_lexer": "ipython3",
   "version": "3.13.2"
  }
 },
 "nbformat": 4,
 "nbformat_minor": 5
}
