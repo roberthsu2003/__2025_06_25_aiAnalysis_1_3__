{
 "cells": [
  {
   "cell_type": "code",
   "execution_count": null,
   "id": "aaa7f2d8",
   "metadata": {},
   "outputs": [],
   "source": [
    "#數字+字串\n",
    "\n",
    "#不行\n",
    "\n",
    "#35 + '10'"
   ]
  },
  {
   "cell_type": "code",
   "execution_count": 4,
   "id": "8e9d5790",
   "metadata": {},
   "outputs": [
    {
     "data": {
      "text/plain": [
       "'3510'"
      ]
     },
     "execution_count": 4,
     "metadata": {},
     "output_type": "execute_result"
    }
   ],
   "source": [
    "#字串+字串\n",
    "\"35\" + \"10\"\n",
    "#\"35\" - \"10\" #錯誤的"
   ]
  },
  {
   "cell_type": "code",
   "execution_count": null,
   "id": "b2bbbcfc",
   "metadata": {},
   "outputs": [
    {
     "data": {
      "text/plain": [
       "30.0"
      ]
     },
     "execution_count": 9,
     "metadata": {},
     "output_type": "execute_result"
    }
   ],
   "source": [
    "number1 = 10 #建立變數number1\n",
    "type(number1)\n",
    "number2 = 20.0\n",
    "type(number2)\n",
    "value = number1 + number2\n",
    "value\n",
    "type(value)"
   ]
  }
 ],
 "metadata": {
  "kernelspec": {
   "display_name": "base",
   "language": "python",
   "name": "python3"
  },
  "language_info": {
   "codemirror_mode": {
    "name": "ipython",
    "version": 3
   },
   "file_extension": ".py",
   "mimetype": "text/x-python",
   "name": "python",
   "nbconvert_exporter": "python",
   "pygments_lexer": "ipython3",
   "version": "3.13.2"
  }
 },
 "nbformat": 4,
 "nbformat_minor": 5
}
