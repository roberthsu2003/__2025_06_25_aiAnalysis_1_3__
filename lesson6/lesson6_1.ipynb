{
 "cells": [
  {
   "cell_type": "code",
   "execution_count": 3,
   "id": "09bd0c76",
   "metadata": {},
   "outputs": [
    {
     "name": "stdout",
     "output_type": "stream",
     "text": [
      "  您的身高為: 173.0 cm\n",
      "  您的體重為: 68.0 kg\n",
      "👉您的BMI為: 22.7 (kg/m²)\n",
      "～應用程式結束～\n"
     ]
    }
   ],
   "source": [
    "try:\n",
    "    height = float(input(\"請輸入身高(120-250(cm))\"))\n",
    "    if 120 <= height <= 250:\n",
    "        print(\"  您的身高為:\",height,\"cm\")\n",
    "    else:\n",
    "        raise Exception(\"身高數字需在120~250(cm)內\")\n",
    "    weight = float(input(\"請輸入體重(30~200(kg))\"))\n",
    "    if 30 <= weight <= 200:\n",
    "        print(\"  您的體重為:\",weight,\"kg\")\n",
    "    else:\n",
    "        raise Exception(\"體重數字需在30~200(kg)內\")\n",
    "except ValueError as e:\n",
    "    print(\"格式錯誤\",e)\n",
    "except Exception as e:\n",
    "    print(e)\n",
    "else:\n",
    "    BMI = weight / (height / 100) ** 2\n",
    "    print(\"👉您的BMI為:\",round(BMI,ndigits = 1),\"(kg/m²)\") \n",
    "finally:\n",
    "    print(\"～應用程式結束～\")"
   ]
  }
 ],
 "metadata": {
  "kernelspec": {
   "display_name": "base",
   "language": "python",
   "name": "python3"
  },
  "language_info": {
   "codemirror_mode": {
    "name": "ipython",
    "version": 3
   },
   "file_extension": ".py",
   "mimetype": "text/x-python",
   "name": "python",
   "nbconvert_exporter": "python",
   "pygments_lexer": "ipython3",
   "version": "3.13.2"
  }
 },
 "nbformat": 4,
 "nbformat_minor": 5
}
