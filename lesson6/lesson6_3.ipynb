{
 "cells": [
  {
   "cell_type": "code",
   "execution_count": null,
   "id": "144025e2",
   "metadata": {},
   "outputs": [
    {
     "data": {
      "text/plain": [
       "55"
      ]
     },
     "execution_count": 1,
     "metadata": {},
     "output_type": "execute_result"
    }
   ],
   "source": [
    "total = 0\n",
    "total += 1\n",
    "total += 2\n",
    "total += 3\n",
    "total += 4\n",
    "total += 5\n",
    "total += 6\n",
    "total += 7\n",
    "total += 8\n",
    "total += 9\n",
    "total += 10\n",
    "total"
   ]
  },
  {
   "cell_type": "code",
   "execution_count": 3,
   "id": "9dac3de7",
   "metadata": {},
   "outputs": [
    {
     "name": "stdout",
     "output_type": "stream",
     "text": [
      "a\n",
      "b\n",
      "c\n",
      "d\n",
      "e\n"
     ]
    }
   ],
   "source": [
    "for word in \"abcde\":\n",
    "    print(word)"
   ]
  },
  {
   "cell_type": "code",
   "execution_count": 6,
   "id": "287d8bd3",
   "metadata": {},
   "outputs": [
    {
     "data": {
      "text/plain": [
       "range(1, 10, 2)"
      ]
     },
     "execution_count": 6,
     "metadata": {},
     "output_type": "execute_result"
    }
   ],
   "source": [
    "range(5) #0~4\n",
    "range(1, 5) #1~4\n",
    "range(1, 10, 2) #1,3,5,7,9"
   ]
  },
  {
   "cell_type": "code",
   "execution_count": 8,
   "id": "48eade15",
   "metadata": {},
   "outputs": [
    {
     "name": "stdout",
     "output_type": "stream",
     "text": [
      "5050\n"
     ]
    }
   ],
   "source": [
    "total = 0\n",
    "for i in range(1,101):\n",
    "    total += i\n",
    "print(total)"
   ]
  }
 ],
 "metadata": {
  "kernelspec": {
   "display_name": "base",
   "language": "python",
   "name": "python3"
  },
  "language_info": {
   "codemirror_mode": {
    "name": "ipython",
    "version": 3
   },
   "file_extension": ".py",
   "mimetype": "text/x-python",
   "name": "python",
   "nbconvert_exporter": "python",
   "pygments_lexer": "ipython3",
   "version": "3.13.2"
  }
 },
 "nbformat": 4,
 "nbformat_minor": 5
}
