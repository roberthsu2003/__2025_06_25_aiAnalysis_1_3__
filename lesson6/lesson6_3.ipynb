{
 "cells": [
  {
   "cell_type": "code",
   "execution_count": null,
   "id": "144025e2",
   "metadata": {},
   "outputs": [
    {
     "data": {
      "text/plain": [
       "55"
      ]
     },
     "execution_count": 1,
     "metadata": {},
     "output_type": "execute_result"
    }
   ],
   "source": [
    "total = 0\n",
    "total += 1\n",
    "total += 2\n",
    "total += 3\n",
    "total += 4\n",
    "total += 5\n",
    "total += 6\n",
    "total += 7\n",
    "total += 8\n",
    "total += 9\n",
    "total += 10\n",
    "total"
   ]
  },
  {
   "cell_type": "code",
   "execution_count": 3,
   "id": "9dac3de7",
   "metadata": {},
   "outputs": [
    {
     "name": "stdout",
     "output_type": "stream",
     "text": [
      "a\n",
      "b\n",
      "c\n",
      "d\n",
      "e\n"
     ]
    }
   ],
   "source": [
    "for word in \"abcde\":\n",
    "    print(word)"
   ]
  },
  {
   "cell_type": "code",
   "execution_count": 6,
   "id": "287d8bd3",
   "metadata": {},
   "outputs": [
    {
     "data": {
      "text/plain": [
       "range(1, 10, 2)"
      ]
     },
     "execution_count": 6,
     "metadata": {},
     "output_type": "execute_result"
    }
   ],
   "source": [
    "range(5) #0~4\n",
    "range(1, 5) #1~4\n",
    "range(1, 10, 2) #1,3,5,7,9"
   ]
  },
  {
   "cell_type": "code",
   "execution_count": null,
   "id": "48eade15",
   "metadata": {},
   "outputs": [
    {
     "name": "stdout",
     "output_type": "stream",
     "text": [
      "45\n"
     ]
    }
   ],
   "source": [
    "total = 0\n",
    "for i in range(1,10):\n",
    "    total += i\n",
    "\n",
    "print(total)"
   ]
  },
  {
   "cell_type": "code",
   "execution_count": null,
   "id": "20a8b22d",
   "metadata": {},
   "outputs": [
    {
     "name": "stdout",
     "output_type": "stream",
     "text": [
      "i= 1\n",
      "j= 1 j= 2 j= 3 j= 4 j= 5 j= 6 j= 7 j= 8 j= 9 \n",
      "=======\n",
      "i= 2\n",
      "j= 1 j= 2 j= 3 j= 4 j= 5 j= 6 j= 7 j= 8 j= 9 \n",
      "=======\n",
      "i= 3\n",
      "j= 1 j= 2 j= 3 j= 4 j= 5 j= 6 j= 7 j= 8 j= 9 \n",
      "=======\n",
      "i= 4\n",
      "j= 1 j= 2 j= 3 j= 4 j= 5 j= 6 j= 7 j= 8 j= 9 \n",
      "=======\n",
      "i= 5\n",
      "j= 1 j= 2 j= 3 j= 4 j= 5 j= 6 j= 7 j= 8 j= 9 \n",
      "=======\n",
      "i= 6\n",
      "j= 1 j= 2 j= 3 j= 4 j= 5 j= 6 j= 7 j= 8 j= 9 \n",
      "=======\n",
      "i= 7\n",
      "j= 1 j= 2 j= 3 j= 4 j= 5 j= 6 j= 7 j= 8 j= 9 \n",
      "=======\n",
      "i= 8\n",
      "j= 1 j= 2 j= 3 j= 4 j= 5 j= 6 j= 7 j= 8 j= 9 \n",
      "=======\n",
      "i= 9\n",
      "j= 1 j= 2 j= 3 j= 4 j= 5 j= 6 j= 7 j= 8 j= 9 \n",
      "=======\n"
     ]
    }
   ],
   "source": [
    "for i in range(1,10):\n",
    "    print(\"i=\",i)\n",
    "    for j in range(1,10):\n",
    "        print(\"j=\",j,end=\" \")\n",
    "    print(\"\\n==============\")"
   ]
  }
 ],
 "metadata": {
  "kernelspec": {
   "display_name": "base",
   "language": "python",
   "name": "python3"
  },
  "language_info": {
   "codemirror_mode": {
    "name": "ipython",
    "version": 3
   },
   "file_extension": ".py",
   "mimetype": "text/x-python",
   "name": "python",
   "nbconvert_exporter": "python",
   "pygments_lexer": "ipython3",
   "version": "3.13.2"
  }
 },
 "nbformat": 4,
 "nbformat_minor": 5
}
