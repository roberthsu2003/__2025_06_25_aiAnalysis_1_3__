{
 "cells": [
  {
   "cell_type": "markdown",
   "id": "a0de3e63",
   "metadata": {},
   "source": [
    "### 猜數字遊戲"
   ]
  },
  {
   "cell_type": "code",
   "execution_count": 3,
   "id": "6eae2057",
   "metadata": {},
   "outputs": [
    {
     "name": "stdout",
     "output_type": "stream",
     "text": [
      "==========猜數字遊戲===========\n",
      "\n",
      "沒有猜中!!!\n",
      "賓果!猜對了,答案是:3\n",
      "您猜了2次\n",
      "遊戲結束\n"
     ]
    }
   ],
   "source": [
    "import random\n",
    "\n",
    "min = 1\n",
    "max = 10\n",
    "count = 0\n",
    "guess_value = random.randint(min,max)\n",
    "print(\"==========猜數字遊戲===========\\n\")\n",
    "while(True):\n",
    "    keyin = int(input(f\"猜數字範圍{min}~{max}\"))\n",
    "    count += 1\n",
    "    if keyin >= min and keyin <= 100:\n",
    "        if(keyin == guess_value):\n",
    "            print(f\"賓果!猜對了,答案是:{guess_value}\")\n",
    "            print(f\"您猜了{count}次\")\n",
    "            break\n",
    "        else:\n",
    "            print(\"沒有猜中!!!\")\n",
    "    else:\n",
    "        print(\"請輸入提示範圍內的數字\")\n",
    "\n",
    "print(\"遊戲結束\")"
   ]
  }
 ],
 "metadata": {
  "kernelspec": {
   "display_name": "base",
   "language": "python",
   "name": "python3"
  },
  "language_info": {
   "codemirror_mode": {
    "name": "ipython",
    "version": 3
   },
   "file_extension": ".py",
   "mimetype": "text/x-python",
   "name": "python",
   "nbconvert_exporter": "python",
   "pygments_lexer": "ipython3",
   "version": "3.13.2"
  }
 },
 "nbformat": 4,
 "nbformat_minor": 5
}
