{
 "cells": [
  {
   "cell_type": "code",
   "execution_count": 2,
   "id": "4391eda8",
   "metadata": {},
   "outputs": [
    {
     "data": {
      "text/plain": [
       "array([ 0, 10, 20, 30, 40, 50, 60, 70, 80, 90])"
      ]
     },
     "execution_count": 2,
     "metadata": {},
     "output_type": "execute_result"
    }
   ],
   "source": [
    "import numpy as np\n",
    "arr = np.arange(10) * 10\n",
    "arr"
   ]
  },
  {
   "cell_type": "code",
   "execution_count": 5,
   "id": "599a9ea2",
   "metadata": {},
   "outputs": [
    {
     "data": {
      "text/plain": [
       "array([50, 60, 70, 80, 90])"
      ]
     },
     "execution_count": 5,
     "metadata": {},
     "output_type": "execute_result"
    }
   ],
   "source": [
    "#索引\n",
    "arr[1]\n",
    "\n",
    "#slice\n",
    "arr[:5] #前5個\n",
    "arr[-5:] #最後5個"
   ]
  },
  {
   "cell_type": "code",
   "execution_count": 7,
   "id": "872e3450",
   "metadata": {},
   "outputs": [
    {
     "data": {
      "text/plain": [
       "array([[ 98,  59,  81,  61,  90],\n",
       "       [ 77,  67,  56,  78,  97],\n",
       "       [ 74,  82,  50,  55,  75],\n",
       "       [ 82,  70,  74,  74,  75],\n",
       "       [ 62,  94,  99,  54,  74],\n",
       "       [ 99,  84,  56,  51,  84],\n",
       "       [ 83,  62,  88,  73,  75],\n",
       "       [ 89,  81,  65,  56,  90],\n",
       "       [ 81,  68,  99,  52,  56],\n",
       "       [ 67,  94,  81,  90, 100],\n",
       "       [ 82,  67,  77,  52,  72],\n",
       "       [ 83,  86,  94,  56,  51],\n",
       "       [ 89,  97,  50,  85,  60],\n",
       "       [ 60,  69,  62,  56,  98],\n",
       "       [ 81,  85,  53,  87,  63],\n",
       "       [ 76,  78,  71,  63,  89],\n",
       "       [ 50,  72,  74,  56,  99],\n",
       "       [100,  54,  82,  54,  86],\n",
       "       [ 62,  63,  81,  81,  63],\n",
       "       [ 72,  78,  52,  85,  95],\n",
       "       [ 63,  87,  63,  66,  90],\n",
       "       [ 84,  82,  56,  70,  64],\n",
       "       [ 68,  58,  89,  69,  76],\n",
       "       [ 78,  67,  51,  65,  59],\n",
       "       [ 75, 100,  93,  78,  55],\n",
       "       [ 96,  56,  98,  66,  75],\n",
       "       [ 76,  70,  88,  51,  96],\n",
       "       [ 81,  63,  62,  51,  88],\n",
       "       [ 71,  74,  54,  71,  53],\n",
       "       [ 88,  74,  78,  53,  55],\n",
       "       [ 74,  98,  64,  99,  79],\n",
       "       [ 96,  64,  74,  94,  71],\n",
       "       [ 66,  52,  69,  73,  60],\n",
       "       [ 52,  90,  63,  95,  51],\n",
       "       [ 80,  69,  65,  93,  60],\n",
       "       [ 83,  99,  76,  91,  73],\n",
       "       [ 88,  64,  76,  75,  78],\n",
       "       [ 64,  76,  61,  54,  89],\n",
       "       [ 91,  51,  61,  97,  86],\n",
       "       [ 77,  93,  62,  75,  78],\n",
       "       [ 96,  54,  60,  51,  77],\n",
       "       [ 60,  82,  90,  67,  83],\n",
       "       [ 55,  91,  64,  54,  81],\n",
       "       [ 95,  90,  97,  97,  56],\n",
       "       [ 67,  72,  77,  52,  89],\n",
       "       [ 97,  78,  80,  62,  79],\n",
       "       [ 52,  71,  78,  84,  82],\n",
       "       [ 99,  72, 100,  94,  71],\n",
       "       [ 68,  84,  70,  86,  77],\n",
       "       [ 78,  90,  75,  95,  86]])"
      ]
     },
     "execution_count": 7,
     "metadata": {},
     "output_type": "execute_result"
    }
   ],
   "source": [
    "scores = np.random.randint(50,101, size=(50, 5))\n",
    "scores"
   ]
  },
  {
   "cell_type": "code",
   "execution_count": 17,
   "id": "3d15a4f1",
   "metadata": {},
   "outputs": [
    {
     "data": {
      "text/plain": [
       "array([[98, 59, 81, 61, 90]])"
      ]
     },
     "execution_count": 17,
     "metadata": {},
     "output_type": "execute_result"
    }
   ],
   "source": [
    "#第一位學生的分數\n",
    "scores[0] #(5,)\n",
    "scores[0,:] #(5,)\n",
    "scores[0:1,:] #(1, 5)"
   ]
  },
  {
   "cell_type": "code",
   "execution_count": 20,
   "id": "e6227868",
   "metadata": {},
   "outputs": [
    {
     "data": {
      "text/plain": [
       "array([[98, 59, 81],\n",
       "       [77, 67, 56],\n",
       "       [74, 82, 50],\n",
       "       [82, 70, 74],\n",
       "       [62, 94, 99]])"
      ]
     },
     "execution_count": 20,
     "metadata": {},
     "output_type": "execute_result"
    }
   ],
   "source": [
    "#前5位學生\n",
    "scores[:5]\n",
    "#前5位學生,前3個分數\n",
    "scores[:5,:3]"
   ]
  },
  {
   "cell_type": "code",
   "execution_count": 23,
   "id": "29cd7523",
   "metadata": {},
   "outputs": [
    {
     "data": {
      "text/plain": [
       "array([ 81,  56,  50,  74,  99,  56,  88,  65,  99,  81,  77,  94,  50,\n",
       "        62,  53,  71,  74,  82,  81,  52,  63,  56,  89,  51,  93,  98,\n",
       "        88,  62,  54,  78,  64,  74,  69,  63,  65,  76,  76,  61,  61,\n",
       "        62,  60,  90,  64,  97,  77,  80,  78, 100,  70,  75])"
      ]
     },
     "execution_count": 23,
     "metadata": {},
     "output_type": "execute_result"
    }
   ],
   "source": [
    "#第1科分數\n",
    "scores[:,0]\n",
    "scores[:,1]\n",
    "scores[:,2]"
   ]
  },
  {
   "cell_type": "code",
   "execution_count": 25,
   "id": "9b68210c",
   "metadata": {},
   "outputs": [
    {
     "data": {
      "text/plain": [
       "array([389, 375, 336, 375, 383, 374, 381, 381, 356, 432, 350, 370, 381,\n",
       "       345, 369, 377, 351, 376, 350, 382, 369, 356, 360, 320, 401, 391,\n",
       "       381, 345, 323, 348, 414, 399, 320, 351, 367, 422, 381, 344, 386,\n",
       "       385, 338, 382, 345, 435, 357, 396, 367, 436, 385, 424])"
      ]
     },
     "execution_count": 25,
     "metadata": {},
     "output_type": "execute_result"
    }
   ],
   "source": [
    "#ndarray可以陣列運算\n",
    "total = scores[:,0] + scores[:,1] + scores[:,2] + scores[:,3] + scores[:,4]\n",
    "total"
   ]
  },
  {
   "cell_type": "code",
   "execution_count": 26,
   "id": "ea7a952d",
   "metadata": {},
   "outputs": [
    {
     "data": {
      "text/plain": [
       "array([77.8, 75. , 67.2, 75. , 76.6, 74.8, 76.2, 76.2, 71.2, 86.4, 70. ,\n",
       "       74. , 76.2, 69. , 73.8, 75.4, 70.2, 75.2, 70. , 76.4, 73.8, 71.2,\n",
       "       72. , 64. , 80.2, 78.2, 76.2, 69. , 64.6, 69.6, 82.8, 79.8, 64. ,\n",
       "       70.2, 73.4, 84.4, 76.2, 68.8, 77.2, 77. , 67.6, 76.4, 69. , 87. ,\n",
       "       71.4, 79.2, 73.4, 87.2, 77. , 84.8])"
      ]
     },
     "execution_count": 26,
     "metadata": {},
     "output_type": "execute_result"
    }
   ],
   "source": [
    "total / 5"
   ]
  },
  {
   "cell_type": "code",
   "execution_count": 29,
   "id": "d95ea8a2",
   "metadata": {},
   "outputs": [
    {
     "data": {
      "text/plain": [
       "array([77.8, 75. , 67.2, 75. , 76.6, 74.8, 76.2, 76.2, 71.2, 86.4, 70. ,\n",
       "       74. , 76.2, 69. , 73.8, 75.4, 70.2, 75.2, 70. , 76.4, 73.8, 71.2,\n",
       "       72. , 64. , 80.2, 78.2, 76.2, 69. , 64.6, 69.6, 82.8, 79.8, 64. ,\n",
       "       70.2, 73.4, 84.4, 76.2, 68.8, 77.2, 77. , 67.6, 76.4, 69. , 87. ,\n",
       "       71.4, 79.2, 73.4, 87.2, 77. , 84.8])"
      ]
     },
     "execution_count": 29,
     "metadata": {},
     "output_type": "execute_result"
    }
   ],
   "source": [
    "#np內的function\n",
    "np.sum(scores,axis=1)\n",
    "np.mean(scores,axis=1)"
   ]
  },
  {
   "cell_type": "code",
   "execution_count": 31,
   "id": "76c49b28",
   "metadata": {},
   "outputs": [
    {
     "data": {
      "text/plain": [
       "array([77.8, 75. , 67.2, 75. , 76.6, 74.8, 76.2, 76.2, 71.2, 86.4, 70. ,\n",
       "       74. , 76.2, 69. , 73.8, 75.4, 70.2, 75.2, 70. , 76.4, 73.8, 71.2,\n",
       "       72. , 64. , 80.2, 78.2, 76.2, 69. , 64.6, 69.6, 82.8, 79.8, 64. ,\n",
       "       70.2, 73.4, 84.4, 76.2, 68.8, 77.2, 77. , 67.6, 76.4, 69. , 87. ,\n",
       "       71.4, 79.2, 73.4, 87.2, 77. , 84.8])"
      ]
     },
     "execution_count": 31,
     "metadata": {},
     "output_type": "execute_result"
    }
   ],
   "source": [
    "#實體方法\n",
    "scores.sum(axis=1)\n",
    "scores.mean(axis=1)"
   ]
  }
 ],
 "metadata": {
  "kernelspec": {
   "display_name": "data_analysis_1_3",
   "language": "python",
   "name": "python3"
  },
  "language_info": {
   "codemirror_mode": {
    "name": "ipython",
    "version": 3
   },
   "file_extension": ".py",
   "mimetype": "text/x-python",
   "name": "python",
   "nbconvert_exporter": "python",
   "pygments_lexer": "ipython3",
   "version": "3.12.11"
  }
 },
 "nbformat": 4,
 "nbformat_minor": 5
}
