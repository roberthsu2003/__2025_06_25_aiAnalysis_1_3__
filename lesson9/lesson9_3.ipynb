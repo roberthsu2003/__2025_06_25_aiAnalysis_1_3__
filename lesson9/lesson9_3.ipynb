{
 "cells": [
  {
   "cell_type": "code",
   "execution_count": null,
   "id": "e364776d",
   "metadata": {},
   "outputs": [],
   "source": [
    "#建立函式,攝氏與華氏互換（攝氏 → 華氏，華氏 → 攝氏）\n",
    "#只要1個函式就可以完成兩種轉換\n",
    "#使用Python3\n",
    "def convert_temperature(value, scale):\n",
    "    if scale == \"C\":\n",
    "        return (value * 9/5) + 32\n",
    "    elif scale == \"F\":\n",
    "        return (value - 32) * 5/9\n",
    "    else:\n",
    "        raise ValueError(\"Invalid scale. Use 'C' for Celsius or 'F' for Fahrenheit.\")\n",
    "#主程式\n",
    "if __name__ == \"__main__\":\n",
    "    try:\n",
    "        temp_value = float(input(\"請輸入溫度值: \"))\n",
    "        scale = input(\"請輸入溫度單位（C for Celsius, F for Fahrenheit）: \").strip().upper()\n",
    "        converted_temp = convert_temperature(temp_value, scale)\n",
    "        if scale == \"C\":\n",
    "            print(f\"{temp_value}°C 等於 {converted_temp:.2f}°F\")\n",
    "        elif scale == \"F\":\n",
    "            print(f\"{temp_value}°F 等於 {converted_temp:.2f}°C\")\n",
    "    except ValueError as e:\n",
    "        print(e)"
   ]
  }
 ],
 "metadata": {
  "kernelspec": {
   "display_name": "base",
   "language": "python",
   "name": "python3"
  },
  "language_info": {
   "name": "python",
   "version": "3.13.2"
  }
 },
 "nbformat": 4,
 "nbformat_minor": 5
}
