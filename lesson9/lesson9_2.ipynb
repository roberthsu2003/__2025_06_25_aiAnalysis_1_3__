{
 "cells": [
  {
   "cell_type": "code",
   "execution_count": null,
   "id": "094686b2",
   "metadata": {},
   "outputs": [
    {
     "name": "stdout",
     "output_type": "stream",
     "text": [
      "(1, 2.5, '3.9', 'hello', True)\n"
     ]
    }
   ],
   "source": [
    "#如果參數有*參數名稱\n",
    "#呼叫時,沒有限定數量的引數值呼叫\n",
    "\n",
    "def fun1(*args):\n",
    "    print(args) #args是一個tuple\n",
    "\n",
    "fun1(1, 2.5, '3.9', 'hello', True)"
   ]
  },
  {
   "cell_type": "code",
   "execution_count": 4,
   "id": "ad866308",
   "metadata": {},
   "outputs": [
    {
     "data": {
      "text/plain": [
       "('a', 'b', 'c', 'd', 'e')"
      ]
     },
     "execution_count": 4,
     "metadata": {},
     "output_type": "execute_result"
    }
   ],
   "source": [
    "#建立自訂的tuple\n",
    "\n",
    "('a', 'b', 'c', 'd', 'e') #使用()符號建立tuple\n",
    "'a', 'b', 'c', 'd', 'e' #可以省略(),直接使用逗號分隔"
   ]
  }
 ],
 "metadata": {
  "kernelspec": {
   "display_name": "base",
   "language": "python",
   "name": "python3"
  },
  "language_info": {
   "codemirror_mode": {
    "name": "ipython",
    "version": 3
   },
   "file_extension": ".py",
   "mimetype": "text/x-python",
   "name": "python",
   "nbconvert_exporter": "python",
   "pygments_lexer": "ipython3",
   "version": "3.13.2"
  }
 },
 "nbformat": 4,
 "nbformat_minor": 5
}
